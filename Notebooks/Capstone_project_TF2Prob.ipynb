{
 "cells": [
  {
   "cell_type": "markdown",
   "metadata": {},
   "source": [
    "## Capstone project tensorflow probability course"
   ]
  },
  {
   "cell_type": "code",
   "execution_count": null,
   "metadata": {},
   "outputs": [],
   "source": [
    "import tensorflow as tf\n",
    "import tensorflow_probability as tfp\n",
    "tfd = tfp.distributions\n",
    "tfb = tfp.bijectors\n",
    "tfpl = tfp.layers\n",
    "\n",
    "from tqdm import tqdm\n",
    "\n",
    "from tensorflow.keras import Sequential, Model\n",
    "from tensorflow.keras.layers import (Dense, Flatten, Reshape, Concatenate, Conv2D, \n",
    "                                     UpSampling2D, BatchNormalization)\n",
    "\n",
    "import numpy as np\n",
    "import math\n",
    "import matplotlib.pyplot as plt\n",
    "%matplotlib inline\n"
   ]
  },
  {
   "cell_type": "code",
   "execution_count": null,
   "metadata": {},
   "outputs": [],
   "source": [
    "sample = tf.random.normal(shape = (5000, 2), stddev=0.3)"
   ]
  },
  {
   "cell_type": "code",
   "execution_count": null,
   "metadata": {},
   "outputs": [],
   "source": [
    "f1 = tfb.Shift((0., -2.))\n",
    "f2 = tfb.Scale((1., 0.5))"
   ]
  },
  {
   "cell_type": "code",
   "execution_count": null,
   "metadata": {},
   "outputs": [],
   "source": [
    "class f3_class(tfb.Bijector):\n",
    "\n",
    "    \n",
    "    def __init__(self, a, validate_args=False):\n",
    "        super().__init__(\n",
    "        validate_args=validate_args,\n",
    "        forward_min_event_ndims=1,\n",
    "        inverse_min_event_ndims=1,\n",
    "        name='f3_class',\n",
    "        is_constant_jacobian=True\n",
    "        )\n",
    "        self.a = tf.cast(a, tf.float32)\n",
    "        self.event_ndim = 1\n",
    "\n",
    "    def _forward(self, x):\n",
    "        batch_ndim = len(x.shape) - self.event_ndim\n",
    "        x = tf.cast(x, tf.float32)\n",
    "        x0 = tf.expand_dims(x[..., 0], batch_ndim)\n",
    "        x1 = tf.expand_dims(x[..., 1], batch_ndim)\n",
    "        y0 = x0\n",
    "        y1 = x1 + ((x0**2) * self.a)\n",
    "        return tf.concat((y0, y1), axis=-1)\n",
    "    \n",
    "    def _inverse(self, y):\n",
    "        batch_ndim = len(y.shape) - self.event_ndim\n",
    "        y = tf.cast(y, tf.float32)\n",
    "        y0 = tf.expand_dims(y[..., 0], batch_ndim)\n",
    "        y1 = tf.expand_dims(y[..., 1], batch_ndim)\n",
    "        x0 = y0\n",
    "        x1 = y1 - ((x0**2) * self.a)\n",
    "        return tf.concat((x0, x1), axis=-1)\n",
    "    \n",
    "    def _forward_log_det_jacobian(self, x):\n",
    "        return tf.constant(0., x.dtype)\n",
    "        "
   ]
  },
  {
   "cell_type": "code",
   "execution_count": null,
   "metadata": {},
   "outputs": [],
   "source": [
    "class f4_class(tfb.Bijector):\n",
    "    def __init__(self, theta, validate_args=False):\n",
    "        super().__init__(\n",
    "          validate_args=validate_args,\n",
    "          forward_min_event_ndims=1,\n",
    "          inverse_min_event_ndims=1,\n",
    "          name='f4_class',\n",
    "          is_constant_jacobian=True\n",
    "        )\n",
    "\n",
    "        self.cos_theta = tf.math.cos(theta)\n",
    "        self.sin_theta = tf.math.sin(theta)\n",
    "        self.event_ndim = 1\n",
    "\n",
    "    def _forward(self, x):\n",
    "        batch_ndim = len(x.shape) - self.event_ndim\n",
    "        x0 = tf.expand_dims(x[..., 0], batch_ndim)\n",
    "        x1 = tf.expand_dims(x[..., 1], batch_ndim)\n",
    "        y0 = self.cos_theta * x0 - self.sin_theta * x1\n",
    "        y1 = self.sin_theta * x0 + self.cos_theta * x1\n",
    "        return tf.concat((y0, y1), axis=-1)\n",
    "\n",
    "    def _inverse(self, y):\n",
    "        batch_ndim = len(y.shape) - self.event_ndim\n",
    "        y0 = tf.expand_dims(y[..., 0], batch_ndim)\n",
    "        y1 = tf.expand_dims(y[..., 1], batch_ndim)\n",
    "        x0 = self.cos_theta * y0 + self.sin_theta * y1\n",
    "        x1 = -self.sin_theta * y0 + self.cos_theta * y1\n",
    "        return tf.concat((x0, x1), axis=-1)\n",
    "\n",
    "    def _forward_log_det_jacobian(self, x):\n",
    "        return tf.constant(0., x.dtype)"
   ]
  },
  {
   "cell_type": "code",
   "execution_count": null,
   "metadata": {},
   "outputs": [],
   "source": [
    "for i in range(4):\n",
    "    a = tf.random.normal(shape = (1, ), mean = 3, stddev= 1)\n",
    "    theta = tf.random.uniform(shape = (1, ), minval=0, maxval= 2*np.pi)\n",
    "\n",
    "    f1 = tfb.Shift((0., -2.))\n",
    "    f2 = tfb.Scale((1., 0.5))\n",
    "    f3 = f3_class(a)\n",
    "    f4 = f4_class(theta)\n",
    "    f5 = tfp.bijectors.Tanh()\n",
    "    transformation = tfb.Chain([f5, f4, f3, f2, f1])\n",
    "    distribution = tfd.TransformedDistribution(tfd.MultivariateNormalDiag(loc = [[0, 0]] , scale_diag= [[0.3, 0.3]]), bijector = transformation)\n",
    "    plt.subplot(2, 2, i + 1)\n",
    "    plt.scatter(*distribution.sample(5000).numpy().T, s = 0.01)"
   ]
  },
  {
   "cell_type": "code",
   "execution_count": null,
   "metadata": {},
   "outputs": [],
   "source": [
    "# Helper function to compute transformed distribution densities\n",
    "\n",
    "X, Y = np.meshgrid(np.linspace(-1, 1, 100), np.linspace(-1, 1, 100))\n",
    "inputs = np.transpose(np.stack((X, Y)), [1, 2, 0])\n",
    "\n",
    "def get_densities(transformed_distribution):\n",
    "    \"\"\"\n",
    "    This function takes a (batched) Distribution object as an argument, and returns a numpy \n",
    "    array Z of shape (batch_shape, 100, 100) of density values, that can be used to make a \n",
    "    contour plot with:\n",
    "    plt.contourf(X, Y, Z[b, ...], cmap='hot', levels=100)\n",
    "    where b is an index into the batch shape.\n",
    "    \"\"\"\n",
    "    batch_shape = transformed_distribution.batch_shape\n",
    "    Z = transformed_distribution.prob(np.expand_dims(inputs, 2)).numpy()\n",
    "    Z = np.transpose(Z, list(range(2, 2+len(batch_shape))) + [0, 1])\n",
    "    Z[np.isnan(Z)] = 0\n",
    "    return Z.squeeze()"
   ]
  },
  {
   "cell_type": "code",
   "execution_count": null,
   "metadata": {},
   "outputs": [],
   "source": [
    "# Helper function to convert contour plots to numpy arrays\n",
    "\n",
    "import numpy as np\n",
    "from matplotlib.backends.backend_agg import FigureCanvasAgg as FigureCanvas\n",
    "from matplotlib.figure import Figure\n",
    "\n",
    "def get_image_array_from_density_values(Z, heatmap, size= 0.36):\n",
    "    \"\"\"\n",
    "    This function takes a numpy array Z of density values of shape (100, 100)\n",
    "    and returns an integer numpy array of shape (36, 36, 3) of pixel values for an image.\n",
    "    \"\"\"\n",
    "    assert Z.shape == (100, 100)\n",
    "    fig = Figure(figsize=(size, size))\n",
    "    canvas = FigureCanvas(fig)\n",
    "    ax = fig.gca()\n",
    "    ax.contourf(X, Y, Z, cmap= heatmap, levels=100)\n",
    "    ax.axis('off')\n",
    "    fig.tight_layout(pad=0)\n",
    "\n",
    "    ax.margins(0)\n",
    "    fig.canvas.draw()\n",
    "    image_from_plot = np.frombuffer(fig.canvas.tostring_rgb(), dtype=np.uint8)\n",
    "    image_from_plot = image_from_plot.reshape(fig.canvas.get_width_height()[::-1] + (3,))\n",
    "    return image_from_plot\n",
    "plt.imshow(get_image_array_from_density_values(get_densities(distribution), heatmap= 'brg'))"
   ]
  },
  {
   "cell_type": "code",
   "execution_count": null,
   "metadata": {},
   "outputs": [],
   "source": [
    "def generate_distribution(a, theta):\n",
    "\n",
    "    #Bijectors\n",
    "    f1 = tfb.Shift((0., -2.))\n",
    "    f2 = tfb.Scale((1., 0.5))\n",
    "    f3 = f3_class(a)\n",
    "    f4 = f4_class(theta)\n",
    "    f5 = tfp.bijectors.Tanh()\n",
    "    transformation = tfb.Chain([f5, f4, f3, f2, f1])\n",
    "    # Distribution\n",
    "    distribution = tfd.TransformedDistribution(\n",
    "        tfd.MultivariateNormalDiag( loc = [[0, 0]],\n",
    "                                    scale_diag= [[0.3, 0.3]]),\n",
    "                                     bijector = transformation)\n",
    "    return distribution"
   ]
  },
  {
   "cell_type": "code",
   "execution_count": null,
   "metadata": {},
   "outputs": [],
   "source": [
    "X, Y = np.meshgrid(np.linspace(-1, 1, 100), np.linspace(-1, 1, 100))\n",
    "inputs = np.transpose(np.stack((X, Y)), [1, 2, 0])\n",
    "heatmap = ['inferno', 'hot', 'nipy_spectral']\n",
    "plt.style.use('dark_background')\n",
    "plt.figure(figsize=(20, 20))\n",
    "for i in range(25):\n",
    "    \n",
    "    heatmap_index = np.random.randint(0, 2)\n",
    "    a = tf.random.normal(shape = (1, ),\n",
    "                        mean = np.random.normal(3, 0.7, size = 1),\n",
    "                        stddev= np.random.lognormal(1, 0.5, size = 1))\n",
    "    theta = tf.random.uniform(shape = (1, ), minval=0, maxval= 2*np.pi)\n",
    "    my_distri = generate_distribution(a, theta)\n",
    "    plt.subplot(5, 5, i + 1)\n",
    "    plt.imshow(get_image_array_from_density_values(get_densities(my_distri),\n",
    "                                                   heatmap = heatmap[heatmap_index]))\n",
    "    plt.grid(b=None)\n",
    "    plt.axis('off')\n",
    "    \n",
    "plt.subplots_adjust(wspace=0, hspace=0)\n",
    "plt.show()\n"
   ]
  },
  {
   "cell_type": "code",
   "execution_count": null,
   "metadata": {},
   "outputs": [],
   "source": [
    "my_images = []\n",
    "for i in tqdm(range(1000*10)):\n",
    "    heatmap_index = np.random.randint(0, 2)\n",
    "    a = tf.random.normal(shape = (1, ),\n",
    "                        mean = np.random.normal(3, 0.7, size = 1),\n",
    "                        stddev= np.random.lognormal(1, 0.5, size = 1))\n",
    "    theta = tf.random.uniform(shape = (1, ), minval=0, maxval= 2*np.pi)\n",
    "    my_distri = generate_distribution(a, theta)\n",
    "    my_images.append(get_image_array_from_density_values(get_densities(my_distri),\n",
    "                                                   heatmap = heatmap[heatmap_index]))\n",
    "\n",
    "my_images = np.array(my_images)\n",
    "print(my_images.shape)\n",
    "np.save('weird_dataset.npy', my_images)"
   ]
  },
  {
   "cell_type": "code",
   "execution_count": null,
   "metadata": {},
   "outputs": [],
   "source": [
    "for i, image in enumerate(my_images):\n",
    "    plt.subplot(2, 5, i + 1)\n",
    "    plt.imshow(image)\n",
    "    plt.grid(b=None)\n",
    "    plt.axis('off')\n",
    "    \n",
    "plt.subplots_adjust(wspace=0, hspace=0)\n",
    "plt.show()"
   ]
  },
  {
   "cell_type": "code",
   "execution_count": null,
   "metadata": {},
   "outputs": [],
   "source": [
    "# Load data and generate tf.data.Datasets\n",
    "train_data = np.load(\"Data/weird_dataset.npy\")\n",
    "train_data = tf.data.Dataset.from_tensor_slices(train_data)\n",
    "train_data = train_data.map(lambda x: x/255)\n",
    "train_data = train_data.map(lambda x: (x, x))\n",
    "\n",
    "BATCH_SIZE = 32\n",
    "SHUFFLE_BUFFER_SIZE = 100\n",
    "\n",
    "train_dataset = train_data.shuffle(SHUFFLE_BUFFER_SIZE).batch(BATCH_SIZE)\n",
    "train_dataset.element_spec"
   ]
  },
  {
   "cell_type": "code",
   "execution_count": null,
   "metadata": {},
   "outputs": [],
   "source": [
    "## Build the model!\n",
    "# The prior distribution should be a zero-mean,\n",
    "# isotropic Gaussian (identity covariance matrix).\n",
    "\n",
    "def get_encoder(latent_dim, kl_regularizer):\n",
    "\n",
    "    model = Sequential(\n",
    "        [Conv2D(36, 4, 2, 'SAME',\n",
    "               input_shape = (36, 36, 3),\n",
    "               activation = 'elu',\n",
    "               name = 'e1'),\n",
    "         BatchNormalization(),\n",
    "         Conv2D(36, 4, 2, 'SAME',\n",
    "                activation = 'elu', name = 'e2'),\n",
    "         BatchNormalization(),\n",
    "         Conv2D(72, 4, 2, 'SAME',\n",
    "                activation = 'elu', name = 'e3'),\n",
    "         BatchNormalization(),\n",
    "         Conv2D(144, 4, 2, 'SAME',\n",
    "                activation = 'elu', name = 'e4'),\n",
    "         BatchNormalization(),\n",
    "         Flatten(),\n",
    "         Dense(tfpl.MultivariateNormalTriL.params_size(latent_dim)),\n",
    "         tfpl.MultivariateNormalTriL(latent_dim,\n",
    "                                    activity_regularizer = kl_regularizer)\n",
    "                       ])\n",
    "                        \n",
    "    return model\n",
    "\n",
    "def get_decoder(latent_dim):\n",
    "    model = Sequential(\n",
    "        [Dense(4050, input_shape = (latent_dim, ), activation = 'elu', name = 'd1'),\n",
    "         Reshape((9, 9, 50)),\n",
    "         #UpSampling2D(2),\n",
    "         Conv2D(72, 3, activation = 'elu', padding = 'SAME', name = 'd2'),\n",
    "         UpSampling2D(2),\n",
    "         Conv2D(36, 3, activation = 'elu', padding = 'SAME', name = 'd3'),\n",
    "         #UpSampling2D(2),\n",
    "         Conv2D(36, 3, activation = 'elu', padding = 'SAME', name = 'd4'),\n",
    "         UpSampling2D(2),\n",
    "         Conv2D(72, 3, activation = 'elu', padding = 'SAME', name = 'd5'),\n",
    "         Conv2D(3, 3, activation = 'linear', padding = 'SAME', name = 'd6'),\n",
    "         Flatten(),\n",
    "         tfpl.IndependentBernoulli(event_shape = (36, 36, 3))\n",
    "        ])\n",
    "                        \n",
    "    return model\n"
   ]
  },
  {
   "cell_type": "code",
   "execution_count": null,
   "metadata": {},
   "outputs": [],
   "source": [
    "def get_prior(latent_dim):\n",
    "\n",
    "    prior = tfd.MultivariateNormalDiag(\n",
    "                loc=tf.zeros([latent_dim]),\n",
    "                scale_diag=tf.ones([latent_dim])\n",
    "                )\n",
    "\n",
    "    return prior\n",
    "\n",
    "def get_kl_regularizer(prior_distribution):\n",
    "    reg = tfpl.KLDivergenceRegularizer(\n",
    "        prior_distribution,\n",
    "        test_points_fn = lambda q: q.sample(10)) # MC approximation 10\n",
    "                                                 # samples\n",
    "    return reg\n",
    "\n",
    "def reconstruction_loss(batch_of_images, decoding_dist):\n",
    "    # This works because the decoder outputs\n",
    "    # a probability distribution!\n",
    "    return -tf.math.reduce_mean(decoding_dist.log_prob(batch_of_images))"
   ]
  },
  {
   "cell_type": "code",
   "execution_count": null,
   "metadata": {},
   "outputs": [],
   "source": [
    "LATENT_DIM = 50\n",
    "prior = get_prior(LATENT_DIM)\n",
    "regularizer = get_kl_regularizer(prior)\n",
    "\n",
    "encoder = get_encoder(LATENT_DIM, regularizer)\n",
    "decoder = get_decoder(LATENT_DIM)"
   ]
  },
  {
   "cell_type": "code",
   "execution_count": null,
   "metadata": {},
   "outputs": [],
   "source": [
    "vae = Model(inputs=encoder.inputs, outputs=decoder(encoder.outputs))"
   ]
  },
  {
   "cell_type": "code",
   "execution_count": null,
   "metadata": {},
   "outputs": [],
   "source": [
    "vae.summary()"
   ]
  },
  {
   "cell_type": "code",
   "execution_count": null,
   "metadata": {},
   "outputs": [],
   "source": [
    "plt.imshow(vae(np.random.uniform(0, 1, size = (1, 36, 36, 3))).sample(1)[0][0])"
   ]
  },
  {
   "cell_type": "code",
   "execution_count": null,
   "metadata": {},
   "outputs": [],
   "source": [
    "optimizer = tf.keras.optimizers.Adam(learning_rate=0.0005)\n",
    "vae.compile(optimizer=optimizer, loss=reconstruction_loss)"
   ]
  },
  {
   "cell_type": "code",
   "execution_count": null,
   "metadata": {},
   "outputs": [],
   "source": [
    "# Generate some validation data;\n",
    "my_images_val = []\n",
    "for i in tqdm(range(1000)):\n",
    "    heatmap_index = np.random.randint(0, 2)\n",
    "    a = tf.random.normal(shape = (1, ),\n",
    "                        mean = np.random.normal(3, 0.7, size = 1),\n",
    "                        stddev= np.random.lognormal(1, 0.5, size = 1))\n",
    "    theta = tf.random.uniform(shape = (1, ), minval=0, maxval= 2*np.pi)\n",
    "    my_distri = generate_distribution(a, theta)\n",
    "    my_images_val.append(get_image_array_from_density_values(get_densities(my_distri),\n",
    "                                                   heatmap = heatmap[heatmap_index]))\n",
    "\n",
    "my_images_val = np.array(my_images_val)\n",
    "print(my_images_val.shape)\n",
    "np.save('Data/weird_dataset_val.npy', my_images_val)\n",
    "\n",
    "val_data = np.load(\"Data/weird_dataset_val.npy\")\n",
    "val_data = tf.data.Dataset.from_tensor_slices(val_data)\n",
    "val_data = train_data.map(lambda x: x/255)\n",
    "val_data = train_data.map(lambda x: (x, x))\n",
    "\n",
    "BATCH_SIZE = 32\n",
    "SHUFFLE_BUFFER_SIZE = 100\n",
    "\n",
    "val_data = val_data.shuffle(SHUFFLE_BUFFER_SIZE).batch(BATCH_SIZE)\n",
    "val_data.element_spec"
   ]
  },
  {
   "cell_type": "code",
   "execution_count": null,
   "metadata": {},
   "outputs": [],
   "source": [
    "val_data = np.load(\"Data/weird_dataset_val.npy\")\n",
    "val_data = tf.data.Dataset.from_tensor_slices(val_data)\n",
    "val_data = val_data.map(lambda x: x/255)\n",
    "val_data = val_data.map(lambda x: (x, x))\n",
    "\n",
    "BATCH_SIZE = 32\n",
    "SHUFFLE_BUFFER_SIZE = 100\n",
    "\n",
    "val_data = val_data.shuffle(SHUFFLE_BUFFER_SIZE).batch(BATCH_SIZE)\n",
    "val_data.element_spec"
   ]
  },
  {
   "cell_type": "code",
   "execution_count": null,
   "metadata": {},
   "outputs": [],
   "source": [
    "vae.fit(train_dataset, validation_data=val_data, epochs=1)"
   ]
  },
  {
   "cell_type": "markdown",
   "metadata": {},
   "source": [
    "## TODO: Create tf.dataset, write the VAE architecture, train it, and interpolate.\n",
    "# Plus translate the differential equations stuff to tf (diffusion probabilistic modelling) and try it out in this dataset."
   ]
  },
  {
   "cell_type": "code",
   "execution_count": null,
   "metadata": {},
   "outputs": [],
   "source": []
  }
 ],
 "metadata": {
  "kernelspec": {
   "display_name": "Python 3.10.6 64-bit",
   "language": "python",
   "name": "python3"
  },
  "language_info": {
   "codemirror_mode": {
    "name": "ipython",
    "version": 3
   },
   "file_extension": ".py",
   "mimetype": "text/x-python",
   "name": "python",
   "nbconvert_exporter": "python",
   "pygments_lexer": "ipython3",
   "version": "3.10.6"
  },
  "vscode": {
   "interpreter": {
    "hash": "916dbcbb3f70747c44a77c7bcd40155683ae19c65e1c03b4aa3499c5328201f1"
   }
  }
 },
 "nbformat": 4,
 "nbformat_minor": 2
}
